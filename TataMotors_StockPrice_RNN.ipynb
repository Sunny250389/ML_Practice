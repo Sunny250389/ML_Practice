{
  "nbformat": 4,
  "nbformat_minor": 0,
  "metadata": {
    "colab": {
      "name": "TataMotors_StockPrice_RNN.ipynb",
      "version": "0.3.2",
      "provenance": [],
      "include_colab_link": true
    },
    "kernelspec": {
      "name": "python3",
      "display_name": "Python 3"
    }
  },
  "cells": [
    {
      "cell_type": "markdown",
      "metadata": {
        "id": "view-in-github",
        "colab_type": "text"
      },
      "source": [
        "<a href=\"https://colab.research.google.com/github/Sunny250389/ML_Practice/blob/master/TataMotors_StockPrice_RNN.ipynb\" target=\"_parent\"><img src=\"https://colab.research.google.com/assets/colab-badge.svg\" alt=\"Open In Colab\"/></a>"
      ]
    },
    {
      "cell_type": "code",
      "metadata": {
        "id": "0IzFcmB7JsJj",
        "colab_type": "code",
        "colab": {}
      },
      "source": [
        "#Importing the libraries\n",
        "import pandas as pd\n",
        "import numpy as np\n",
        "import matplotlib.pyplot as plt\n",
        "%matplotlib inline"
      ],
      "execution_count": 0,
      "outputs": []
    },
    {
      "cell_type": "code",
      "metadata": {
        "id": "AQ66MJD4zNJF",
        "colab_type": "code",
        "colab": {}
      },
      "source": [
        "#Train Data\n",
        "dataset_train = pd.read_csv(\"TATAMOTORS.BO_Train.csv\")\n",
        "training_set = dataset_train.iloc[:,1:2].values"
      ],
      "execution_count": 0,
      "outputs": []
    },
    {
      "cell_type": "code",
      "metadata": {
        "id": "aqTGTZ7j0sHg",
        "colab_type": "code",
        "colab": {}
      },
      "source": [
        "# Feature Scaling (when sigmoid function is used in NN, it is reccomended to use Normalization)\n",
        "from sklearn.preprocessing import MinMaxScaler\n",
        "sc = MinMaxScaler(feature_range = (0, 1))\n",
        "training_set_scaled = sc.fit_transform(training_set)"
      ],
      "execution_count": 0,
      "outputs": []
    },
    {
      "cell_type": "code",
      "metadata": {
        "id": "M7mPvPud0u9A",
        "colab_type": "code",
        "colab": {}
      },
      "source": [
        "# Creating a data structure with 60 timesteps and 1 output\n",
        "X_train = []\n",
        "y_train = []\n",
        "for i in range(60, 637):\n",
        "    X_train.append(training_set_scaled[i-60:i, 0])\n",
        "    y_train.append(training_set_scaled[i, 0])\n",
        "X_train, y_train = np.array(X_train), np.array(y_train)"
      ],
      "execution_count": 0,
      "outputs": []
    },
    {
      "cell_type": "code",
      "metadata": {
        "id": "_VWoDIjG14Z7",
        "colab_type": "code",
        "colab": {}
      },
      "source": [
        "# Reshaping for making it in a format which is required for RNN\n",
        "X_train = np.reshape(X_train, (X_train.shape[0], X_train.shape[1], 1))"
      ],
      "execution_count": 0,
      "outputs": []
    },
    {
      "cell_type": "code",
      "metadata": {
        "id": "YjYE9jfp2A22",
        "colab_type": "code",
        "colab": {
          "base_uri": "https://localhost:8080/",
          "height": 34
        },
        "outputId": "40bb60c0-7b4d-4c66-a8cc-be24aa626b31"
      },
      "source": [
        "# Part 2 - Building the RNN\n",
        "\n",
        "# Importing the Keras libraries and packages\n",
        "from keras.models import Sequential\n",
        "from keras.layers import Dense\n",
        "from keras.layers import LSTM\n",
        "from keras.layers import Dropout"
      ],
      "execution_count": 8,
      "outputs": [
        {
          "output_type": "stream",
          "text": [
            "Using TensorFlow backend.\n"
          ],
          "name": "stderr"
        }
      ]
    },
    {
      "cell_type": "code",
      "metadata": {
        "id": "-H68rZ992EjS",
        "colab_type": "code",
        "colab": {
          "base_uri": "https://localhost:8080/",
          "height": 71
        },
        "outputId": "847f9133-6cf6-4149-c939-b16273a4e0a8"
      },
      "source": [
        "# Initialising the RNN\n",
        "regressor = Sequential()"
      ],
      "execution_count": 9,
      "outputs": [
        {
          "output_type": "stream",
          "text": [
            "WARNING:tensorflow:From /usr/local/lib/python3.6/dist-packages/keras/backend/tensorflow_backend.py:66: The name tf.get_default_graph is deprecated. Please use tf.compat.v1.get_default_graph instead.\n",
            "\n"
          ],
          "name": "stdout"
        }
      ]
    },
    {
      "cell_type": "code",
      "metadata": {
        "id": "WaywhkM32IFp",
        "colab_type": "code",
        "colab": {
          "base_uri": "https://localhost:8080/",
          "height": 190
        },
        "outputId": "5b4265ea-6b46-4819-a5d6-f553f33c3557"
      },
      "source": [
        "# Adding the first LSTM layer and some Dropout regularisation\n",
        "regressor.add(LSTM(units = 50, return_sequences = True, input_shape = (X_train.shape[1], 1)))\n",
        "regressor.add(Dropout(0.2))"
      ],
      "execution_count": 10,
      "outputs": [
        {
          "output_type": "stream",
          "text": [
            "WARNING:tensorflow:From /usr/local/lib/python3.6/dist-packages/keras/backend/tensorflow_backend.py:541: The name tf.placeholder is deprecated. Please use tf.compat.v1.placeholder instead.\n",
            "\n",
            "WARNING:tensorflow:From /usr/local/lib/python3.6/dist-packages/keras/backend/tensorflow_backend.py:4432: The name tf.random_uniform is deprecated. Please use tf.random.uniform instead.\n",
            "\n",
            "WARNING:tensorflow:From /usr/local/lib/python3.6/dist-packages/keras/backend/tensorflow_backend.py:148: The name tf.placeholder_with_default is deprecated. Please use tf.compat.v1.placeholder_with_default instead.\n",
            "\n",
            "WARNING:tensorflow:From /usr/local/lib/python3.6/dist-packages/keras/backend/tensorflow_backend.py:3733: calling dropout (from tensorflow.python.ops.nn_ops) with keep_prob is deprecated and will be removed in a future version.\n",
            "Instructions for updating:\n",
            "Please use `rate` instead of `keep_prob`. Rate should be set to `rate = 1 - keep_prob`.\n"
          ],
          "name": "stdout"
        }
      ]
    },
    {
      "cell_type": "code",
      "metadata": {
        "id": "WEsFJYGa2Mj7",
        "colab_type": "code",
        "colab": {}
      },
      "source": [
        "# Adding a second LSTM layer and some Dropout regularisation\n",
        "regressor.add(LSTM(units = 50, return_sequences = True))\n",
        "regressor.add(Dropout(0.2))"
      ],
      "execution_count": 0,
      "outputs": []
    },
    {
      "cell_type": "code",
      "metadata": {
        "id": "qxzf72D92P9c",
        "colab_type": "code",
        "colab": {}
      },
      "source": [
        "# Adding a third LSTM layer and some Dropout regularisation\n",
        "regressor.add(LSTM(units = 50, return_sequences = True))\n",
        "regressor.add(Dropout(0.2))"
      ],
      "execution_count": 0,
      "outputs": []
    },
    {
      "cell_type": "code",
      "metadata": {
        "id": "IyhszssB2ToW",
        "colab_type": "code",
        "colab": {}
      },
      "source": [
        "# Adding a fourth LSTM layer and some Dropout regularisation\n",
        "regressor.add(LSTM(units = 50))\n",
        "regressor.add(Dropout(0.2))"
      ],
      "execution_count": 0,
      "outputs": []
    },
    {
      "cell_type": "code",
      "metadata": {
        "id": "9K4cg8-y2VdK",
        "colab_type": "code",
        "colab": {}
      },
      "source": [
        "# Adding the output layer\n",
        "regressor.add(Dense(units = 1))"
      ],
      "execution_count": 0,
      "outputs": []
    },
    {
      "cell_type": "code",
      "metadata": {
        "id": "frdUNmcM2YNa",
        "colab_type": "code",
        "colab": {
          "base_uri": "https://localhost:8080/",
          "height": 71
        },
        "outputId": "89c2f32c-7253-4a20-b021-817ccfccdcfd"
      },
      "source": [
        "# Compiling the RNN\n",
        "regressor.compile(optimizer = 'adam', loss = 'mean_squared_error')"
      ],
      "execution_count": 15,
      "outputs": [
        {
          "output_type": "stream",
          "text": [
            "WARNING:tensorflow:From /usr/local/lib/python3.6/dist-packages/keras/optimizers.py:793: The name tf.train.Optimizer is deprecated. Please use tf.compat.v1.train.Optimizer instead.\n",
            "\n"
          ],
          "name": "stdout"
        }
      ]
    },
    {
      "cell_type": "code",
      "metadata": {
        "id": "hS_839_Q2bWs",
        "colab_type": "code",
        "colab": {
          "base_uri": "https://localhost:8080/",
          "height": 1000
        },
        "outputId": "84a4e57e-caaf-4315-f902-083ed7b5768b"
      },
      "source": [
        "# Fitting the RNN to the Training set\n",
        "regressor.fit(X_train, y_train, epochs = 100, batch_size = 32)"
      ],
      "execution_count": 16,
      "outputs": [
        {
          "output_type": "stream",
          "text": [
            "WARNING:tensorflow:From /usr/local/lib/python3.6/dist-packages/tensorflow/python/ops/math_grad.py:1250: add_dispatch_support.<locals>.wrapper (from tensorflow.python.ops.array_ops) is deprecated and will be removed in a future version.\n",
            "Instructions for updating:\n",
            "Use tf.where in 2.0, which has the same broadcast rule as np.where\n",
            "WARNING:tensorflow:From /usr/local/lib/python3.6/dist-packages/keras/backend/tensorflow_backend.py:1033: The name tf.assign_add is deprecated. Please use tf.compat.v1.assign_add instead.\n",
            "\n",
            "Epoch 1/100\n",
            "577/577 [==============================] - 6s 10ms/step - loss: 0.0665\n",
            "Epoch 2/100\n",
            "577/577 [==============================] - 3s 6ms/step - loss: 0.0106\n",
            "Epoch 3/100\n",
            "577/577 [==============================] - 3s 6ms/step - loss: 0.0064\n",
            "Epoch 4/100\n",
            "577/577 [==============================] - 3s 6ms/step - loss: 0.0062\n",
            "Epoch 5/100\n",
            "577/577 [==============================] - 3s 6ms/step - loss: 0.0061\n",
            "Epoch 6/100\n",
            "577/577 [==============================] - 3s 6ms/step - loss: 0.0060\n",
            "Epoch 7/100\n",
            "577/577 [==============================] - 3s 6ms/step - loss: 0.0053\n",
            "Epoch 8/100\n",
            "577/577 [==============================] - 3s 6ms/step - loss: 0.0053\n",
            "Epoch 9/100\n",
            "577/577 [==============================] - 3s 6ms/step - loss: 0.0050\n",
            "Epoch 10/100\n",
            "577/577 [==============================] - 3s 6ms/step - loss: 0.0058\n",
            "Epoch 11/100\n",
            "577/577 [==============================] - 3s 6ms/step - loss: 0.0046\n",
            "Epoch 12/100\n",
            "577/577 [==============================] - 3s 6ms/step - loss: 0.0052\n",
            "Epoch 13/100\n",
            "577/577 [==============================] - 3s 6ms/step - loss: 0.0046\n",
            "Epoch 14/100\n",
            "577/577 [==============================] - 3s 6ms/step - loss: 0.0048\n",
            "Epoch 15/100\n",
            "577/577 [==============================] - 3s 6ms/step - loss: 0.0046\n",
            "Epoch 16/100\n",
            "577/577 [==============================] - 3s 6ms/step - loss: 0.0052\n",
            "Epoch 17/100\n",
            "577/577 [==============================] - 3s 6ms/step - loss: 0.0040\n",
            "Epoch 18/100\n",
            "577/577 [==============================] - 3s 6ms/step - loss: 0.0043\n",
            "Epoch 19/100\n",
            "577/577 [==============================] - 3s 6ms/step - loss: 0.0046\n",
            "Epoch 20/100\n",
            "577/577 [==============================] - 3s 6ms/step - loss: 0.0040\n",
            "Epoch 21/100\n",
            "577/577 [==============================] - 3s 6ms/step - loss: 0.0046\n",
            "Epoch 22/100\n",
            "577/577 [==============================] - 3s 6ms/step - loss: 0.0047\n",
            "Epoch 23/100\n",
            "577/577 [==============================] - 3s 6ms/step - loss: 0.0041\n",
            "Epoch 24/100\n",
            "577/577 [==============================] - 3s 6ms/step - loss: 0.0043\n",
            "Epoch 25/100\n",
            "577/577 [==============================] - 3s 6ms/step - loss: 0.0042\n",
            "Epoch 26/100\n",
            "577/577 [==============================] - 4s 6ms/step - loss: 0.0036\n",
            "Epoch 27/100\n",
            "577/577 [==============================] - 3s 6ms/step - loss: 0.0045\n",
            "Epoch 28/100\n",
            "577/577 [==============================] - 3s 6ms/step - loss: 0.0037\n",
            "Epoch 29/100\n",
            "577/577 [==============================] - 3s 6ms/step - loss: 0.0039\n",
            "Epoch 30/100\n",
            "577/577 [==============================] - 3s 6ms/step - loss: 0.0036\n",
            "Epoch 31/100\n",
            "577/577 [==============================] - 3s 6ms/step - loss: 0.0037\n",
            "Epoch 32/100\n",
            "577/577 [==============================] - 3s 6ms/step - loss: 0.0033\n",
            "Epoch 33/100\n",
            "577/577 [==============================] - 4s 6ms/step - loss: 0.0067\n",
            "Epoch 34/100\n",
            "577/577 [==============================] - 3s 6ms/step - loss: 0.0113\n",
            "Epoch 35/100\n",
            "577/577 [==============================] - 3s 6ms/step - loss: 0.0050\n",
            "Epoch 36/100\n",
            "577/577 [==============================] - 3s 6ms/step - loss: 0.0039\n",
            "Epoch 37/100\n",
            "577/577 [==============================] - 4s 6ms/step - loss: 0.0034\n",
            "Epoch 38/100\n",
            "577/577 [==============================] - 3s 6ms/step - loss: 0.0035\n",
            "Epoch 39/100\n",
            "577/577 [==============================] - 3s 6ms/step - loss: 0.0030\n",
            "Epoch 40/100\n",
            "577/577 [==============================] - 3s 6ms/step - loss: 0.0033\n",
            "Epoch 41/100\n",
            "577/577 [==============================] - 3s 6ms/step - loss: 0.0030\n",
            "Epoch 42/100\n",
            "577/577 [==============================] - 4s 6ms/step - loss: 0.0033\n",
            "Epoch 43/100\n",
            "577/577 [==============================] - 3s 6ms/step - loss: 0.0037\n",
            "Epoch 44/100\n",
            "577/577 [==============================] - 3s 6ms/step - loss: 0.0029\n",
            "Epoch 45/100\n",
            "577/577 [==============================] - 4s 6ms/step - loss: 0.0030\n",
            "Epoch 46/100\n",
            "577/577 [==============================] - 3s 6ms/step - loss: 0.0029\n",
            "Epoch 47/100\n",
            "577/577 [==============================] - 3s 6ms/step - loss: 0.0031\n",
            "Epoch 48/100\n",
            "577/577 [==============================] - 3s 6ms/step - loss: 0.0031\n",
            "Epoch 49/100\n",
            "577/577 [==============================] - 3s 6ms/step - loss: 0.0027\n",
            "Epoch 50/100\n",
            "577/577 [==============================] - 4s 6ms/step - loss: 0.0050\n",
            "Epoch 51/100\n",
            "577/577 [==============================] - 3s 6ms/step - loss: 0.0037\n",
            "Epoch 52/100\n",
            "577/577 [==============================] - 3s 6ms/step - loss: 0.0028\n",
            "Epoch 53/100\n",
            "577/577 [==============================] - 3s 6ms/step - loss: 0.0029\n",
            "Epoch 54/100\n",
            "577/577 [==============================] - 4s 6ms/step - loss: 0.0029\n",
            "Epoch 55/100\n",
            "577/577 [==============================] - 3s 6ms/step - loss: 0.0059\n",
            "Epoch 56/100\n",
            "577/577 [==============================] - 4s 6ms/step - loss: 0.0068\n",
            "Epoch 57/100\n",
            "577/577 [==============================] - 4s 6ms/step - loss: 0.0034\n",
            "Epoch 58/100\n",
            "577/577 [==============================] - 4s 6ms/step - loss: 0.0034\n",
            "Epoch 59/100\n",
            "577/577 [==============================] - 3s 6ms/step - loss: 0.0031\n",
            "Epoch 60/100\n",
            "577/577 [==============================] - 3s 6ms/step - loss: 0.0026\n",
            "Epoch 61/100\n",
            "577/577 [==============================] - 3s 6ms/step - loss: 0.0026\n",
            "Epoch 62/100\n",
            "577/577 [==============================] - 3s 6ms/step - loss: 0.0026\n",
            "Epoch 63/100\n",
            "577/577 [==============================] - 4s 6ms/step - loss: 0.0024\n",
            "Epoch 64/100\n",
            "577/577 [==============================] - 4s 6ms/step - loss: 0.0023\n",
            "Epoch 65/100\n",
            "577/577 [==============================] - 4s 6ms/step - loss: 0.0026\n",
            "Epoch 66/100\n",
            "577/577 [==============================] - 4s 6ms/step - loss: 0.0025\n",
            "Epoch 67/100\n",
            "577/577 [==============================] - 4s 6ms/step - loss: 0.0024\n",
            "Epoch 68/100\n",
            "577/577 [==============================] - 3s 6ms/step - loss: 0.0023\n",
            "Epoch 69/100\n",
            "577/577 [==============================] - 4s 6ms/step - loss: 0.0022\n",
            "Epoch 70/100\n",
            "577/577 [==============================] - 3s 6ms/step - loss: 0.0024\n",
            "Epoch 71/100\n",
            "577/577 [==============================] - 3s 6ms/step - loss: 0.0024\n",
            "Epoch 72/100\n",
            "577/577 [==============================] - 3s 6ms/step - loss: 0.0025\n",
            "Epoch 73/100\n",
            "577/577 [==============================] - 3s 6ms/step - loss: 0.0026\n",
            "Epoch 74/100\n",
            "577/577 [==============================] - 4s 6ms/step - loss: 0.0024\n",
            "Epoch 75/100\n",
            "577/577 [==============================] - 3s 6ms/step - loss: 0.0029\n",
            "Epoch 76/100\n",
            "577/577 [==============================] - 3s 6ms/step - loss: 0.0026\n",
            "Epoch 77/100\n",
            "577/577 [==============================] - 3s 6ms/step - loss: 0.0020\n",
            "Epoch 78/100\n",
            "577/577 [==============================] - 4s 6ms/step - loss: 0.0023\n",
            "Epoch 79/100\n",
            "577/577 [==============================] - 4s 6ms/step - loss: 0.0023\n",
            "Epoch 80/100\n",
            "577/577 [==============================] - 4s 6ms/step - loss: 0.0022\n",
            "Epoch 81/100\n",
            "577/577 [==============================] - 3s 6ms/step - loss: 0.0027\n",
            "Epoch 82/100\n",
            "577/577 [==============================] - 4s 6ms/step - loss: 0.0021\n",
            "Epoch 83/100\n",
            "577/577 [==============================] - 3s 6ms/step - loss: 0.0022\n",
            "Epoch 84/100\n",
            "577/577 [==============================] - 4s 6ms/step - loss: 0.0020\n",
            "Epoch 85/100\n",
            "577/577 [==============================] - 4s 6ms/step - loss: 0.0021\n",
            "Epoch 86/100\n",
            "577/577 [==============================] - 4s 6ms/step - loss: 0.0024\n",
            "Epoch 87/100\n",
            "577/577 [==============================] - 3s 6ms/step - loss: 0.0017\n",
            "Epoch 88/100\n",
            "577/577 [==============================] - 3s 6ms/step - loss: 0.0023\n",
            "Epoch 89/100\n",
            "577/577 [==============================] - 4s 6ms/step - loss: 0.0024\n",
            "Epoch 90/100\n",
            "577/577 [==============================] - 4s 6ms/step - loss: 0.0025\n",
            "Epoch 91/100\n",
            "577/577 [==============================] - 3s 6ms/step - loss: 0.0022\n",
            "Epoch 92/100\n",
            "577/577 [==============================] - 3s 6ms/step - loss: 0.0024\n",
            "Epoch 93/100\n",
            "577/577 [==============================] - 3s 6ms/step - loss: 0.0022\n",
            "Epoch 94/100\n",
            "577/577 [==============================] - 3s 6ms/step - loss: 0.0022\n",
            "Epoch 95/100\n",
            "577/577 [==============================] - 4s 6ms/step - loss: 0.0023\n",
            "Epoch 96/100\n",
            "577/577 [==============================] - 3s 6ms/step - loss: 0.0022\n",
            "Epoch 97/100\n",
            "577/577 [==============================] - 3s 6ms/step - loss: 0.0026\n",
            "Epoch 98/100\n",
            "577/577 [==============================] - 4s 6ms/step - loss: 0.0022\n",
            "Epoch 99/100\n",
            "577/577 [==============================] - 4s 6ms/step - loss: 0.0024\n",
            "Epoch 100/100\n",
            "577/577 [==============================] - 3s 6ms/step - loss: 0.0019\n"
          ],
          "name": "stdout"
        },
        {
          "output_type": "execute_result",
          "data": {
            "text/plain": [
              "<keras.callbacks.History at 0x7faf1a0bbc88>"
            ]
          },
          "metadata": {
            "tags": []
          },
          "execution_count": 16
        }
      ]
    },
    {
      "cell_type": "code",
      "metadata": {
        "id": "GBXJVXdl2egZ",
        "colab_type": "code",
        "colab": {}
      },
      "source": [
        "# Part 3 - Making the predictions and visualising the results\n",
        "\n",
        "# Getting the real stock price of 2017\n",
        "dataset_test = pd.read_csv('TATAMOTORS.BO_Test.csv')\n",
        "real_stock_price = dataset_test.iloc[:, 1:2].values"
      ],
      "execution_count": 0,
      "outputs": []
    },
    {
      "cell_type": "code",
      "metadata": {
        "id": "cZh5TjjK22Uk",
        "colab_type": "code",
        "colab": {}
      },
      "source": [
        "# Getting the predicted stock price of 2017\n",
        "dataset_total = pd.concat((dataset_train['Open'], dataset_test['Open']), axis = 0)\n",
        "inputs = dataset_total[len(dataset_total) - len(dataset_test) - 60:].values\n",
        "inputs = inputs.reshape(-1,1)\n",
        "inputs = sc.transform(inputs)\n",
        "X_test = []\n",
        "for i in range(60, 84):\n",
        "    X_test.append(inputs[i-60:i, 0])\n",
        "X_test = np.array(X_test)\n",
        "X_test = np.reshape(X_test, (X_test.shape[0], X_test.shape[1], 1))\n",
        "predicted_stock_price = regressor.predict(X_test)\n",
        "predicted_stock_price = sc.inverse_transform(predicted_stock_price)"
      ],
      "execution_count": 0,
      "outputs": []
    },
    {
      "cell_type": "code",
      "metadata": {
        "id": "wEoVup6f27tY",
        "colab_type": "code",
        "colab": {
          "base_uri": "https://localhost:8080/",
          "height": 295
        },
        "outputId": "023d7134-0f59-4146-f6e6-0ba983fef146"
      },
      "source": [
        "# Visualising the results\n",
        "plt.plot(real_stock_price, color = 'red', label = 'Real Tata Stock Price')\n",
        "plt.plot(predicted_stock_price, color = 'blue', label = 'Predicted Tata Stock Price')\n",
        "plt.title('Tata Stock Price Prediction')\n",
        "plt.xlabel('Time')\n",
        "plt.ylabel('Tata Stock Price')\n",
        "plt.legend()\n",
        "plt.show()"
      ],
      "execution_count": 25,
      "outputs": [
        {
          "output_type": "display_data",
          "data": {
            "image/png": "[encoded data removed]",
            "text/plain": [
              "<Figure size 432x288 with 1 Axes>"
            ]
          },
          "metadata": {
            "tags": []
          }
        }
      ]
    },
    {
      "cell_type": "code",
      "metadata": {
        "id": "uv_pNUmI4HJ6",
        "colab_type": "code",
        "colab": {
          "base_uri": "https://localhost:8080/",
          "height": 425
        },
        "outputId": "6ac62f02-5459-4fa3-ff99-ac812d78bca7"
      },
      "source": [
        "predicted_stock_price"
      ],
      "execution_count": 26,
      "outputs": [
        {
          "output_type": "execute_result",
          "data": {
            "text/plain": [
              "array([[152.08226 ],\n",
              "       [148.48038 ],\n",
              "       [144.88808 ],\n",
              "       [141.45134 ],\n",
              "       [138.19237 ],\n",
              "       [135.1885  ],\n",
              "       [132.4326  ],\n",
              "       [130.16306 ],\n",
              "       [128.5833  ],\n",
              "       [127.718124],\n",
              "       [127.40759 ],\n",
              "       [127.494194],\n",
              "       [127.79033 ],\n",
              "       [128.24396 ],\n",
              "       [128.49997 ],\n",
              "       [128.21016 ],\n",
              "       [127.433266],\n",
              "       [126.303665],\n",
              "       [125.23538 ],\n",
              "       [124.44338 ],\n",
              "       [123.94343 ],\n",
              "       [123.57304 ],\n",
              "       [123.19901 ],\n",
              "       [122.70068 ]], dtype=float32)"
            ]
          },
          "metadata": {
            "tags": []
          },
          "execution_count": 26
        }
      ]
    },
    {
      "cell_type": "code",
      "metadata": {
        "id": "8ZbcEa4K4vwM",
        "colab_type": "code",
        "colab": {}
      },
      "source": [
        "import math\n",
        "from sklearn.metrics import mean_squared_error\n",
        "rmse = math.sqrt(mean_squared_error(real_stock_price, predicted_stock_price))"
      ],
      "execution_count": 0,
      "outputs": []
    },
    {
      "cell_type": "code",
      "metadata": {
        "id": "Xe433Scj53-y",
        "colab_type": "code",
        "colab": {
          "base_uri": "https://localhost:8080/",
          "height": 34
        },
        "outputId": "f62fb4a4-c5aa-47b8-f941-6786935a73a2"
      },
      "source": [
        "rmse"
      ],
      "execution_count": 28,
      "outputs": [
        {
          "output_type": "execute_result",
          "data": {
            "text/plain": [
              "12.642560377982182"
            ]
          },
          "metadata": {
            "tags": []
          },
          "execution_count": 28
        }
      ]
    },
    {
      "cell_type": "code",
      "metadata": {
        "id": "zwNWa70Q547p",
        "colab_type": "code",
        "colab": {}
      },
      "source": [
        ""
      ],
      "execution_count": 0,
      "outputs": []
    }
  ]
}